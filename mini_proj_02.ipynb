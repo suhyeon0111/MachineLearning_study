{
 "cells": [
  {
   "cell_type": "markdown",
   "id": "fe4db296",
   "metadata": {},
   "source": [
    "# mini project2_02_20191519 이수현\n",
    "## human Activity Recognition"
   ]
  },
  {
   "cell_type": "markdown",
   "id": "4433382a",
   "metadata": {},
   "source": [
    "### 20191519 이수현"
   ]
  },
  {
   "cell_type": "code",
   "execution_count": 11,
   "id": "148c5997",
   "metadata": {},
   "outputs": [],
   "source": [
    "# Python ≥3.5 is required\n",
    "import sys\n",
    "assert sys.version_info >= (3, 5)\n",
    "\n",
    "# Is this notebook running on Colab or Kaggle?\n",
    "IS_COLAB = \"google.colab\" in sys.modules\n",
    "IS_KAGGLE = \"kaggle_secrets\" in sys.modules\n",
    "\n",
    "# Scikit-Learn ≥0.20 is required\n",
    "import sklearn\n",
    "assert sklearn.__version__ >= \"0.20\"\n",
    "\n",
    "# Common imports\n",
    "import numpy as np\n",
    "import os\n",
    "\n",
    "# to make this notebook's output stable across runs\n",
    "np.random.seed(42)\n",
    "\n",
    "# To plot pretty figures\n",
    "%matplotlib inline\n",
    "import matplotlib as mpl\n",
    "import matplotlib.pyplot as plt\n",
    "mpl.rc('axes', labelsize=14)\n",
    "mpl.rc('xtick', labelsize=12)\n",
    "mpl.rc('ytick', labelsize=12)\n",
    "\n",
    "# Where to save the figures\n",
    "PROJECT_ROOT_DIR = \".\"\n",
    "CHAPTER_ID = \"classification\"\n",
    "IMAGES_PATH = os.path.join(PROJECT_ROOT_DIR, \"images\", CHAPTER_ID)\n",
    "os.makedirs(IMAGES_PATH, exist_ok=True)\n",
    "\n",
    "def save_fig(fig_id, tight_layout=True, fig_extension=\"png\", resolution=300):\n",
    "    path = os.path.join(IMAGES_PATH, fig_id + \".\" + fig_extension)\n",
    "    print(\"Saving figure\", fig_id)\n",
    "    if tight_layout:\n",
    "        plt.tight_layout()\n",
    "    plt.savefig(path, format=fig_extension, dpi=resolution)"
   ]
  },
  {
   "cell_type": "code",
   "execution_count": 12,
   "id": "04b2e25d",
   "metadata": {},
   "outputs": [],
   "source": [
    "import numpy as np\n",
    "import pandas as pd\n",
    "\n",
    "input_file = \"train.csv\"\n",
    "df_train = pd.read_csv(input_file)"
   ]
  },
  {
   "cell_type": "code",
   "execution_count": 13,
   "id": "6eb18826",
   "metadata": {},
   "outputs": [
    {
     "data": {
      "text/plain": [
       "array([[0.28858451, -0.020294171, -0.13290514, ..., -0.058626924, 1,\n",
       "        'STANDING'],\n",
       "       [0.27841883, -0.016410568, -0.12352019, ..., -0.054316717, 1,\n",
       "        'STANDING'],\n",
       "       [0.27965306, -0.019467156, -0.11346169, ..., -0.049117815, 1,\n",
       "        'STANDING'],\n",
       "       ...,\n",
       "       [0.27338737, -0.017010616, -0.045021828, ..., 0.040811188, 30,\n",
       "        'WALKING_UPSTAIRS'],\n",
       "       [0.28965416, -0.018843044, -0.15828059, ..., 0.025339478, 30,\n",
       "        'WALKING_UPSTAIRS'],\n",
       "       [0.35150347, -0.012423118, -0.20386717, ..., 0.036694843, 30,\n",
       "        'WALKING_UPSTAIRS']], dtype=object)"
      ]
     },
     "execution_count": 13,
     "metadata": {},
     "output_type": "execute_result"
    }
   ],
   "source": [
    "data_train = df_train.to_numpy()\n",
    "data_train"
   ]
  },
  {
   "cell_type": "code",
   "execution_count": 14,
   "id": "c727de11",
   "metadata": {},
   "outputs": [
    {
     "data": {
      "text/plain": [
       "(7352, 563)"
      ]
     },
     "execution_count": 14,
     "metadata": {},
     "output_type": "execute_result"
    }
   ],
   "source": [
    "data_train.shape"
   ]
  },
  {
   "cell_type": "code",
   "execution_count": 15,
   "id": "277a1ca1",
   "metadata": {},
   "outputs": [
    {
     "data": {
      "text/plain": [
       "array([[0.28858451, -0.020294171, -0.13290514, ..., -0.84124676,\n",
       "        0.17994061, -0.058626924],\n",
       "       [0.27841883, -0.016410568, -0.12352019, ..., -0.8447876,\n",
       "        0.18028889, -0.054316717],\n",
       "       [0.27965306, -0.019467156, -0.11346169, ..., -0.84893347,\n",
       "        0.18063731, -0.049117815],\n",
       "       ...,\n",
       "       [0.27338737, -0.017010616, -0.045021828, ..., -0.77913261,\n",
       "        0.24914484, 0.040811188],\n",
       "       [0.28965416, -0.018843044, -0.15828059, ..., -0.78518142,\n",
       "        0.24643223, 0.025339478],\n",
       "       [0.35150347, -0.012423118, -0.20386717, ..., -0.78326693,\n",
       "        0.24680852, 0.036694843]], dtype=object)"
      ]
     },
     "execution_count": 15,
     "metadata": {},
     "output_type": "execute_result"
    }
   ],
   "source": [
    "X_train = data_train[:, :-2]\n",
    "X_train"
   ]
  },
  {
   "cell_type": "code",
   "execution_count": 16,
   "id": "d1449bd1",
   "metadata": {},
   "outputs": [
    {
     "data": {
      "text/plain": [
       "array(['STANDING', 'STANDING', 'STANDING', ..., 'WALKING_UPSTAIRS',\n",
       "       'WALKING_UPSTAIRS', 'WALKING_UPSTAIRS'], dtype=object)"
      ]
     },
     "execution_count": 16,
     "metadata": {},
     "output_type": "execute_result"
    }
   ],
   "source": [
    "y_train = data_train[:, -1]\n",
    "y_train"
   ]
  },
  {
   "cell_type": "markdown",
   "id": "cd3cebc9",
   "metadata": {},
   "source": [
    "# Adaboost Classifier"
   ]
  },
  {
   "cell_type": "code",
   "execution_count": 44,
   "id": "32d64e89",
   "metadata": {},
   "outputs": [
    {
     "data": {
      "text/plain": [
       "AdaBoostClassifier(base_estimator=RandomForestClassifier(n_jobs=-1,\n",
       "                                                         random_state=42),\n",
       "                   learning_rate=0.01, random_state=42)"
      ]
     },
     "execution_count": 44,
     "metadata": {},
     "output_type": "execute_result"
    }
   ],
   "source": [
    "from sklearn.ensemble import AdaBoostClassifier\n",
    "from sklearn.ensemble import RandomForestClassifier \n",
    "\n",
    "ada_clf = AdaBoostClassifier(\n",
    "    RandomForestClassifier(n_jobs=-1, random_state=42), \n",
    "    algorithm=\"SAMME.R\", learning_rate=0.01, random_state=42)\n",
    "\n",
    "ada_clf.fit(X_train, y_train)"
   ]
  },
  {
   "cell_type": "markdown",
   "id": "8e0daf08",
   "metadata": {},
   "source": [
    "## RandomForest"
   ]
  },
  {
   "cell_type": "code",
   "execution_count": 1,
   "id": "6ff7604f",
   "metadata": {},
   "outputs": [
    {
     "ename": "NameError",
     "evalue": "name 'X_train' is not defined",
     "output_type": "error",
     "traceback": [
      "\u001b[1;31m---------------------------------------------------------------------------\u001b[0m",
      "\u001b[1;31mNameError\u001b[0m                                 Traceback (most recent call last)",
      "\u001b[1;32m<ipython-input-1-b9818931d10a>\u001b[0m in \u001b[0;36m<module>\u001b[1;34m\u001b[0m\n\u001b[0;32m      4\u001b[0m \u001b[0mrnd_clf\u001b[0m \u001b[1;33m=\u001b[0m \u001b[0mRandomForestClassifier\u001b[0m\u001b[1;33m(\u001b[0m\u001b[0mn_jobs\u001b[0m\u001b[1;33m=\u001b[0m\u001b[1;33m-\u001b[0m\u001b[1;36m1\u001b[0m\u001b[1;33m,\u001b[0m \u001b[0mrandom_state\u001b[0m\u001b[1;33m=\u001b[0m\u001b[1;36m42\u001b[0m\u001b[1;33m)\u001b[0m\u001b[1;33m\u001b[0m\u001b[1;33m\u001b[0m\u001b[0m\n\u001b[0;32m      5\u001b[0m \u001b[1;33m\u001b[0m\u001b[0m\n\u001b[1;32m----> 6\u001b[1;33m \u001b[0mrnd_clf\u001b[0m\u001b[1;33m.\u001b[0m\u001b[0mfit\u001b[0m\u001b[1;33m(\u001b[0m\u001b[0mX_train\u001b[0m\u001b[1;33m,\u001b[0m \u001b[0my_train\u001b[0m\u001b[1;33m)\u001b[0m\u001b[1;33m\u001b[0m\u001b[1;33m\u001b[0m\u001b[0m\n\u001b[0m",
      "\u001b[1;31mNameError\u001b[0m: name 'X_train' is not defined"
     ]
    }
   ],
   "source": [
    "from sklearn.ensemble import AdaBoostClassifier\n",
    "from sklearn.ensemble import RandomForestClassifier \n",
    "\n",
    "rnd_clf = RandomForestClassifier(n_jobs=-1, random_state=42)\n",
    "\n",
    "rnd_clf.fit(X_train, y_train)"
   ]
  },
  {
   "cell_type": "markdown",
   "id": "6d5282b8",
   "metadata": {},
   "source": [
    "# 최종 점수"
   ]
  },
  {
   "cell_type": "code",
   "execution_count": 45,
   "id": "b669adb7",
   "metadata": {},
   "outputs": [
    {
     "data": {
      "text/plain": [
       "array([0.94429348, 0.88451087, 0.97414966, 0.85034014, 0.94693878,\n",
       "       0.88571429, 0.9537415 , 0.98231293, 0.95646259, 0.95510204])"
      ]
     },
     "execution_count": 45,
     "metadata": {},
     "output_type": "execute_result"
    }
   ],
   "source": [
    "from sklearn.model_selection import cross_val_score\n",
    "\n",
    "cross_val_score(ada_clf, X_train, y_train, cv=10, scoring=\"accuracy\")"
   ]
  },
  {
   "cell_type": "code",
   "execution_count": 46,
   "id": "56fb80f7",
   "metadata": {},
   "outputs": [
    {
     "data": {
      "text/plain": [
       "0.933356628"
      ]
     },
     "execution_count": 46,
     "metadata": {},
     "output_type": "execute_result"
    }
   ],
   "source": [
    "np.mean([0.94429348, 0.88451087, 0.97414966, 0.85034014, 0.94693878, 0.88571429, 0.9537415 , 0.98231293, 0.95646259, 0.95510204])"
   ]
  },
  {
   "cell_type": "markdown",
   "id": "64759792",
   "metadata": {},
   "source": [
    "#### 결과: 0.933356628"
   ]
  },
  {
   "cell_type": "code",
   "execution_count": null,
   "id": "4d9ce6e5",
   "metadata": {},
   "outputs": [],
   "source": []
  }
 ],
 "metadata": {
  "kernelspec": {
   "display_name": "Python 3",
   "language": "python",
   "name": "python3"
  },
  "language_info": {
   "codemirror_mode": {
    "name": "ipython",
    "version": 3
   },
   "file_extension": ".py",
   "mimetype": "text/x-python",
   "name": "python",
   "nbconvert_exporter": "python",
   "pygments_lexer": "ipython3",
   "version": "3.8.8"
  }
 },
 "nbformat": 4,
 "nbformat_minor": 5
}
